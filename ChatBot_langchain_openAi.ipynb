{
  "nbformat": 4,
  "nbformat_minor": 0,
  "metadata": {
    "colab": {
      "provenance": [],
      "authorship_tag": "ABX9TyMzvIwnoFkeW5LrcocUNshS",
      "include_colab_link": true
    },
    "kernelspec": {
      "name": "python3",
      "display_name": "Python 3"
    },
    "language_info": {
      "name": "python"
    }
  },
  "cells": [
    {
      "cell_type": "markdown",
      "metadata": {
        "id": "view-in-github",
        "colab_type": "text"
      },
      "source": [
        "<a href=\"https://colab.research.google.com/github/Sahaswari/ChatBot--Langchain-with-OpenAI/blob/main/ChatBot_langchain_openAi.ipynb\" target=\"_parent\"><img src=\"https://colab.research.google.com/assets/colab-badge.svg\" alt=\"Open In Colab\"/></a>"
      ]
    },
    {
      "cell_type": "markdown",
      "source": [
        "**Simple ChatBot using LangChain and OpenAi**"
      ],
      "metadata": {
        "id": "XW_bsKC--kyZ"
      }
    },
    {
      "cell_type": "code",
      "source": [
        "#install packages\n",
        "!pip install langchain -qU\n",
        "!pip install langchain-openai -qU"
      ],
      "metadata": {
        "colab": {
          "base_uri": "https://localhost:8080/"
        },
        "id": "uPCaydTZ-uZ0",
        "outputId": "b38b5853-5545-4c7d-fd52-061527dabf65"
      },
      "execution_count": null,
      "outputs": [
        {
          "output_type": "stream",
          "name": "stdout",
          "text": [
            "\u001b[2K     \u001b[90m━━━━━━━━━━━━━━━━━━━━━━━━━━━━━━━━━━━━━━━━\u001b[0m \u001b[32m50.4/50.4 kB\u001b[0m \u001b[31m881.7 kB/s\u001b[0m eta \u001b[36m0:00:00\u001b[0m\n",
            "\u001b[2K   \u001b[90m━━━━━━━━━━━━━━━━━━━━━━━━━━━━━━━━━━━━━━━━\u001b[0m \u001b[32m1.0/1.0 MB\u001b[0m \u001b[31m23.2 MB/s\u001b[0m eta \u001b[36m0:00:00\u001b[0m\n",
            "\u001b[2K   \u001b[90m━━━━━━━━━━━━━━━━━━━━━━━━━━━━━━━━━━━━━━━━\u001b[0m \u001b[32m396.4/396.4 kB\u001b[0m \u001b[31m23.5 MB/s\u001b[0m eta \u001b[36m0:00:00\u001b[0m\n",
            "\u001b[2K   \u001b[90m━━━━━━━━━━━━━━━━━━━━━━━━━━━━━━━━━━━━━━━━\u001b[0m \u001b[32m290.4/290.4 kB\u001b[0m \u001b[31m14.5 MB/s\u001b[0m eta \u001b[36m0:00:00\u001b[0m\n",
            "\u001b[2K   \u001b[90m━━━━━━━━━━━━━━━━━━━━━━━━━━━━━━━━━━━━━━━━\u001b[0m \u001b[32m76.4/76.4 kB\u001b[0m \u001b[31m5.1 MB/s\u001b[0m eta \u001b[36m0:00:00\u001b[0m\n",
            "\u001b[2K   \u001b[90m━━━━━━━━━━━━━━━━━━━━━━━━━━━━━━━━━━━━━━━━\u001b[0m \u001b[32m77.9/77.9 kB\u001b[0m \u001b[31m5.0 MB/s\u001b[0m eta \u001b[36m0:00:00\u001b[0m\n",
            "\u001b[2K   \u001b[90m━━━━━━━━━━━━━━━━━━━━━━━━━━━━━━━━━━━━━━━━\u001b[0m \u001b[32m141.9/141.9 kB\u001b[0m \u001b[31m9.9 MB/s\u001b[0m eta \u001b[36m0:00:00\u001b[0m\n",
            "\u001b[2K   \u001b[90m━━━━━━━━━━━━━━━━━━━━━━━━━━━━━━━━━━━━━━━━\u001b[0m \u001b[32m58.3/58.3 kB\u001b[0m \u001b[31m4.0 MB/s\u001b[0m eta \u001b[36m0:00:00\u001b[0m\n",
            "\u001b[2K   \u001b[90m━━━━━━━━━━━━━━━━━━━━━━━━━━━━━━━━━━━━━━━━\u001b[0m \u001b[32m52.0/52.0 kB\u001b[0m \u001b[31m3.5 MB/s\u001b[0m eta \u001b[36m0:00:00\u001b[0m\n",
            "\u001b[2K   \u001b[90m━━━━━━━━━━━━━━━━━━━━━━━━━━━━━━━━━━━━━━━━\u001b[0m \u001b[32m367.8/367.8 kB\u001b[0m \u001b[31m16.8 MB/s\u001b[0m eta \u001b[36m0:00:00\u001b[0m\n",
            "\u001b[2K   \u001b[90m━━━━━━━━━━━━━━━━━━━━━━━━━━━━━━━━━━━━━━━━\u001b[0m \u001b[32m1.1/1.1 MB\u001b[0m \u001b[31m34.5 MB/s\u001b[0m eta \u001b[36m0:00:00\u001b[0m\n",
            "\u001b[2K   \u001b[90m━━━━━━━━━━━━━━━━━━━━━━━━━━━━━━━━━━━━━━━━\u001b[0m \u001b[32m318.9/318.9 kB\u001b[0m \u001b[31m17.2 MB/s\u001b[0m eta \u001b[36m0:00:00\u001b[0m\n",
            "\u001b[?25h"
          ]
        }
      ]
    },
    {
      "cell_type": "code",
      "source": [
        "#import libraries\n",
        "import os\n",
        "from google.colab import userdata"
      ],
      "metadata": {
        "id": "-V7UK2fC_JnB"
      },
      "execution_count": null,
      "outputs": []
    },
    {
      "cell_type": "code",
      "source": [
        "#initialize openAi LLM\n",
        "from langchain_openai import ChatOpenAI\n",
        "\n",
        "#set OpenAi key\n",
        "os.environ['OPENAI_API_KEY'] = userdata.get('OPENAI_API_KEY')\n",
        "\n",
        "#initialize the ChatOpenAi model\n",
        "llm = ChatOpenAI(\n",
        "    model = \"gpt-3.5-turbo\",\n",
        "    temperature=0\n",
        ")"
      ],
      "metadata": {
        "id": "rlQ1aHTMCJxs"
      },
      "execution_count": null,
      "outputs": []
    },
    {
      "cell_type": "code",
      "source": [
        "#Initialize prompt template\n",
        "from langchain_core.prompts import ChatPromptTemplate\n",
        "\n",
        "#create a prompt template\n",
        "prompt = ChatPromptTemplate.from_messages(\n",
        "    [\n",
        "        (\"system\", \"You are an intelligent chatbot. Answer the following question\"),\n",
        "        (\"user\",\"{question}\")\n",
        "    ]\n",
        ")"
      ],
      "metadata": {
        "id": "vW1bzfI1DBCr"
      },
      "execution_count": null,
      "outputs": []
    },
    {
      "cell_type": "code",
      "source": [
        "#Initialize output parser\n",
        "from langchain_core.output_parsers import StrOutputParser\n",
        "parser = StrOutputParser()"
      ],
      "metadata": {
        "id": "4waLwBNyINxU"
      },
      "execution_count": null,
      "outputs": []
    },
    {
      "cell_type": "code",
      "source": [
        "# Chain the promt,LLM  and output parser\n",
        "chain = prompt | llm | parser"
      ],
      "metadata": {
        "id": "xkJ7VyOeInEg"
      },
      "execution_count": null,
      "outputs": []
    },
    {
      "cell_type": "code",
      "source": [
        "question = \"What is Machine Learning?\"\n",
        "response = chain.invoke({\"question\":question})\n",
        "print(response)"
      ],
      "metadata": {
        "colab": {
          "base_uri": "https://localhost:8080/"
        },
        "id": "T26JeEY1I8yR",
        "outputId": "4516c38c-fff6-40b4-8bde-af331a98febe"
      },
      "execution_count": null,
      "outputs": [
        {
          "output_type": "stream",
          "name": "stdout",
          "text": [
            "Machine learning is a subset of artificial intelligence that involves the development of algorithms and statistical models that enable computers to learn from and make predictions or decisions based on data without being explicitly programmed. In essence, it is a way for computers to learn and improve from experience. Machine learning is used in a wide range of applications, such as image recognition, natural language processing, recommendation systems, and autonomous vehicles.\n"
          ]
        }
      ]
    },
    {
      "cell_type": "code",
      "source": [
        "#Initialize prompt template for dynamic Intereaction\n",
        "\n",
        "from langchain_core.prompts import MessagesPlaceholder\n",
        "from langchain_core.messages import HumanMessage, AIMessage, SystemMessage\n",
        "\n",
        "#create a prompt template\n",
        "prompt = ChatPromptTemplate.from_messages(\n",
        "    [\n",
        "        SystemMessage(content=\"You are a intelligent chaybot. Answer the following question\"),\n",
        "        MessagesPlaceholder(variable_name=\"question\")\n",
        "    ]\n",
        ")"
      ],
      "metadata": {
        "id": "w2O9162HJVpS"
      },
      "execution_count": null,
      "outputs": []
    },
    {
      "cell_type": "code",
      "source": [
        "#Chain the prompt, LLM and output parser\n",
        "chain = prompt | llm | parser"
      ],
      "metadata": {
        "id": "gxDjlhYLMZ72"
      },
      "execution_count": null,
      "outputs": []
    },
    {
      "cell_type": "code",
      "source": [
        "question = \"My name is sahaswari\"\n",
        "response = chain.invoke({\"question\":[HumanMessage(content=question)]})\n",
        "print(response)"
      ],
      "metadata": {
        "colab": {
          "base_uri": "https://localhost:8080/"
        },
        "id": "e5Fx6FEmNVdq",
        "outputId": "c1df27fa-f13b-48d3-bc7b-c7de296f4014"
      },
      "execution_count": null,
      "outputs": [
        {
          "output_type": "stream",
          "name": "stdout",
          "text": [
            "Hello Sahaswari! How can I assist you today?\n"
          ]
        }
      ]
    },
    {
      "cell_type": "code",
      "source": [
        "question = \"Who am I?\"\n",
        "response = chain.invoke({\"question\":[HumanMessage(content=question)]})\n",
        "print(response)"
      ],
      "metadata": {
        "colab": {
          "base_uri": "https://localhost:8080/"
        },
        "id": "qtoE1T0JQgln",
        "outputId": "35aeee56-a224-47ac-bdab-e144f0e906f2"
      },
      "execution_count": null,
      "outputs": [
        {
          "output_type": "stream",
          "name": "stdout",
          "text": [
            "You are a user interacting with me, a chatbot. If you would like to share more about yourself, feel free to do so!\n"
          ]
        }
      ]
    },
    {
      "cell_type": "markdown",
      "source": [
        "Add Chat History"
      ],
      "metadata": {
        "id": "pxVTEtNTRBIZ"
      }
    },
    {
      "cell_type": "code",
      "source": [
        "#add chathistory also\n",
        "prompt = ChatPromptTemplate.from_messages(\n",
        "    [\n",
        "        SystemMessage(content=\"You are a intelligent chaybot. Answer the following question\"),\n",
        "        HumanMessage(content=\"My name is sahaswari\"),\n",
        "        AIMessage(content=\"Hi sahaswari! How can I help you today?\"),\n",
        "        MessagesPlaceholder(variable_name=\"question\")\n",
        "    ]\n",
        ")"
      ],
      "metadata": {
        "id": "sLXrLs9-QpVq"
      },
      "execution_count": null,
      "outputs": []
    },
    {
      "cell_type": "code",
      "source": [
        "#chain the promt\n",
        "chain = prompt | llm | parser"
      ],
      "metadata": {
        "id": "uA8flLHTRFQa"
      },
      "execution_count": null,
      "outputs": []
    },
    {
      "cell_type": "code",
      "source": [
        "question = \"Who am I?\"\n",
        "response = chain.invoke({\"question\":[HumanMessage(content=question)]})\n",
        "print(response)"
      ],
      "metadata": {
        "colab": {
          "base_uri": "https://localhost:8080/"
        },
        "id": "wj1yUIGgRomQ",
        "outputId": "41f46af6-569a-4d44-b810-abc14a36da8b"
      },
      "execution_count": null,
      "outputs": [
        {
          "output_type": "stream",
          "name": "stdout",
          "text": [
            "You are sahaswari, a unique individual with your own thoughts, feelings, and experiences.\n"
          ]
        }
      ]
    },
    {
      "cell_type": "code",
      "source": [
        "#add dinamic chat history also\n",
        "prompt = ChatPromptTemplate.from_messages(\n",
        "    [\n",
        "        SystemMessage(content=\"You are a intelligent chaybot. Answer the following question\"),\n",
        "        MessagesPlaceholder(variable_name=\"history\"),\n",
        "        MessagesPlaceholder(variable_name=\"question\")\n",
        "    ]\n",
        ")"
      ],
      "metadata": {
        "id": "Nm6g7epYRsAm"
      },
      "execution_count": null,
      "outputs": []
    },
    {
      "cell_type": "code",
      "source": [
        "#Define chat history\n",
        "history = [\n",
        "    HumanMessage(content=\"My name is sahaswari\"),\n",
        "    AIMessage(content=\"Hi sahaswari! How can I help you today?\"),\n",
        "    HumanMessage(content=\"What is 2+5\"),\n",
        "    AIMessage(content=\"7\")\n",
        "]"
      ],
      "metadata": {
        "id": "LIvj3DybSGnQ"
      },
      "execution_count": null,
      "outputs": []
    },
    {
      "cell_type": "code",
      "source": [
        "#chain the prompt\n",
        "chain = prompt | llm | parser"
      ],
      "metadata": {
        "id": "P7AlE7haS4h4"
      },
      "execution_count": null,
      "outputs": []
    },
    {
      "cell_type": "code",
      "source": [
        "question = \"Who am I?\"\n",
        "response = chain.invoke({\"history\":history, \"question\":[HumanMessage(content=question)]})\n",
        "print(response)\n"
      ],
      "metadata": {
        "colab": {
          "base_uri": "https://localhost:8080/"
        },
        "id": "ilrJJRORTBuB",
        "outputId": "ea9c1668-1c4a-4bf1-de44-ce08a2f61dd8"
      },
      "execution_count": null,
      "outputs": [
        {
          "output_type": "stream",
          "name": "stdout",
          "text": [
            "You are sahaswari.\n"
          ]
        }
      ]
    },
    {
      "cell_type": "markdown",
      "source": [
        "Update history and display"
      ],
      "metadata": {
        "id": "U62xovctTcuk"
      }
    },
    {
      "cell_type": "code",
      "source": [
        "history"
      ],
      "metadata": {
        "colab": {
          "base_uri": "https://localhost:8080/"
        },
        "id": "-cCyLe2LTGJh",
        "outputId": "2802006d-99e9-4f19-972b-f818dd64ec83"
      },
      "execution_count": null,
      "outputs": [
        {
          "output_type": "execute_result",
          "data": {
            "text/plain": [
              "[HumanMessage(content='My name is sahaswari'),\n",
              " AIMessage(content='Hi sahaswari! How can I help you today?'),\n",
              " HumanMessage(content='What is 2+5'),\n",
              " AIMessage(content='7')]"
            ]
          },
          "metadata": {},
          "execution_count": 19
        }
      ]
    },
    {
      "cell_type": "code",
      "source": [
        "#Extend the history\n",
        "history.extend([HumanMessage(content=question),AIMessage(content=response)])\n"
      ],
      "metadata": {
        "id": "flGqlF6RTiln"
      },
      "execution_count": null,
      "outputs": []
    },
    {
      "cell_type": "code",
      "source": [
        "history"
      ],
      "metadata": {
        "colab": {
          "base_uri": "https://localhost:8080/"
        },
        "id": "8u42RU1ST2ae",
        "outputId": "2902bfa9-f857-4f1b-c11e-24589c3f5367"
      },
      "execution_count": null,
      "outputs": [
        {
          "output_type": "execute_result",
          "data": {
            "text/plain": [
              "[HumanMessage(content='My name is sahaswari'),\n",
              " AIMessage(content='Hi sahaswari! How can I help you today?'),\n",
              " HumanMessage(content='What is 2+5'),\n",
              " AIMessage(content='7'),\n",
              " HumanMessage(content='Who am I?'),\n",
              " AIMessage(content='You are sahaswari.'),\n",
              " HumanMessage(content='What is my last question?'),\n",
              " AIMessage(content='Your last question was \"Who am I?\"')]"
            ]
          },
          "metadata": {},
          "execution_count": 31
        }
      ]
    },
    {
      "cell_type": "code",
      "source": [
        "question = \"What is my last question?\"\n",
        "response = chain.invoke({\"history\":history, \"question\":[HumanMessage(content=question)]})\n",
        "print(response)"
      ],
      "metadata": {
        "colab": {
          "base_uri": "https://localhost:8080/"
        },
        "id": "KsgUA9wLT3zJ",
        "outputId": "3cd23622-e82f-4adc-feaf-6b4398bc59ff"
      },
      "execution_count": null,
      "outputs": [
        {
          "output_type": "stream",
          "name": "stdout",
          "text": [
            "Your last question was \"What is my last question?\"\n"
          ]
        }
      ]
    },
    {
      "cell_type": "code",
      "source": [
        "history"
      ],
      "metadata": {
        "colab": {
          "base_uri": "https://localhost:8080/"
        },
        "id": "L80zFgbXT-jQ",
        "outputId": "46d6ab53-6312-4caf-f515-bf19d2a6fcf1"
      },
      "execution_count": null,
      "outputs": [
        {
          "output_type": "execute_result",
          "data": {
            "text/plain": [
              "[HumanMessage(content='My name is sahaswari'),\n",
              " AIMessage(content='Hi sahaswari! How can I help you today?'),\n",
              " HumanMessage(content='What is 2+5'),\n",
              " AIMessage(content='7'),\n",
              " HumanMessage(content='Who am I?'),\n",
              " AIMessage(content='You are sahaswari.'),\n",
              " HumanMessage(content='What is my last question?'),\n",
              " AIMessage(content='Your last question was \"Who am I?\"')]"
            ]
          },
          "metadata": {},
          "execution_count": 33
        }
      ]
    },
    {
      "cell_type": "markdown",
      "source": [
        "Limit the dispaly histoty"
      ],
      "metadata": {
        "id": "77a15j6_Ubs8"
      }
    },
    {
      "cell_type": "code",
      "source": [
        "history[-4:]"
      ],
      "metadata": {
        "colab": {
          "base_uri": "https://localhost:8080/"
        },
        "id": "Mq7kcKk2UJN2",
        "outputId": "54995dc1-1630-4cb7-8096-6084d103af48"
      },
      "execution_count": null,
      "outputs": [
        {
          "output_type": "execute_result",
          "data": {
            "text/plain": [
              "[HumanMessage(content='Who am I?'),\n",
              " AIMessage(content='You are sahaswari.'),\n",
              " HumanMessage(content='What is my last question?'),\n",
              " AIMessage(content='Your last question was \"Who am I?\"')]"
            ]
          },
          "metadata": {},
          "execution_count": 34
        }
      ]
    },
    {
      "cell_type": "code",
      "source": [
        "question = \"What is 7+5?\"\n",
        "response = chain.invoke({\"history\":history, \"question\":[HumanMessage(content=question)]})\n",
        "print(response)"
      ],
      "metadata": {
        "colab": {
          "base_uri": "https://localhost:8080/"
        },
        "id": "DhCkEVjJUmS2",
        "outputId": "1c8bbea5-5731-4a57-bb4b-39c1ab698c90"
      },
      "execution_count": null,
      "outputs": [
        {
          "output_type": "stream",
          "name": "stdout",
          "text": [
            "12\n"
          ]
        }
      ]
    },
    {
      "cell_type": "code",
      "source": [
        "history"
      ],
      "metadata": {
        "colab": {
          "base_uri": "https://localhost:8080/"
        },
        "id": "0pnzw6jSUh1a",
        "outputId": "0017fd62-cda8-4c51-98e6-dfbecd54abbd"
      },
      "execution_count": null,
      "outputs": [
        {
          "output_type": "execute_result",
          "data": {
            "text/plain": [
              "[HumanMessage(content='My name is sahaswari'),\n",
              " AIMessage(content='Hi sahaswari! How can I help you today?'),\n",
              " HumanMessage(content='What is 2+5'),\n",
              " AIMessage(content='7'),\n",
              " HumanMessage(content='Who am I?'),\n",
              " AIMessage(content='You are sahaswari.')]"
            ]
          },
          "metadata": {},
          "execution_count": 26
        }
      ]
    },
    {
      "cell_type": "code",
      "source": [
        "question = \"What is WHo?\"\n",
        "response = chain.invoke({\"history\":history, \"question\":[HumanMessage(content=question)]})\n",
        "print(response)"
      ],
      "metadata": {
        "colab": {
          "base_uri": "https://localhost:8080/"
        },
        "id": "fYgg4v_3Uray",
        "outputId": "29c6385d-945f-4aa6-ba31-d35556b7589f"
      },
      "execution_count": null,
      "outputs": [
        {
          "output_type": "stream",
          "name": "stdout",
          "text": [
            "\"Who\" is a pronoun used to ask about a person's identity or to inquire about someone.\n"
          ]
        }
      ]
    },
    {
      "cell_type": "code",
      "source": [
        "question = \"What is my last question?\"\n",
        "response = chain.invoke({\"history\":history, \"question\":[HumanMessage(content=question)]})\n",
        "print(response)"
      ],
      "metadata": {
        "colab": {
          "base_uri": "https://localhost:8080/"
        },
        "id": "6_9NGSTMHGNl",
        "outputId": "27c07f56-e0c9-42a3-a4d2-962c752aea76"
      },
      "execution_count": null,
      "outputs": [
        {
          "output_type": "stream",
          "name": "stdout",
          "text": [
            "Your last question was \"Who am I?\"\n"
          ]
        }
      ]
    },
    {
      "cell_type": "code",
      "source": [],
      "metadata": {
        "id": "9mpjK7a6HN2F"
      },
      "execution_count": null,
      "outputs": []
    }
  ]
}